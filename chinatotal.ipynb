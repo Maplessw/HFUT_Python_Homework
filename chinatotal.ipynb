{
 "cells": [
  {
   "cell_type": "code",
   "execution_count": 43,
   "metadata": {},
   "outputs": [],
   "source": [
    "import requests\n",
    "import re\n",
    "from bs4 import BeautifulSoup\n",
    "import pandas as pd\n",
    "import numpy as np\n",
    "import json"
   ]
  },
  {
   "cell_type": "code",
   "execution_count": 44,
   "metadata": {},
   "outputs": [],
   "source": [
    "url=\"https://ncov.dxy.cn/ncovh5/view/pneumonia\"\n",
    "head={\"user-agent\":\"Mozilla/5.0 (Windows NT 10.0; Win64; x64) AppleWebKit/537.36 (KHTML, like Gecko) Chrome/101.0.4951.67 Safari/537.36\"}\n",
    "r=requests.get(url,headers=head)"
   ]
  },
  {
   "cell_type": "code",
   "execution_count": 45,
   "metadata": {},
   "outputs": [
    {
     "data": {
      "text/plain": [
       "200"
      ]
     },
     "execution_count": 45,
     "metadata": {},
     "output_type": "execute_result"
    }
   ],
   "source": [
    "r.status_code"
   ]
  },
  {
   "cell_type": "code",
   "execution_count": 46,
   "metadata": {},
   "outputs": [],
   "source": [
    "r.encoding=r.apparent_encoding"
   ]
  },
  {
   "cell_type": "code",
   "execution_count": 47,
   "metadata": {},
   "outputs": [],
   "source": [
    "text=r.text"
   ]
  },
  {
   "cell_type": "code",
   "execution_count": 48,
   "metadata": {},
   "outputs": [],
   "source": [
    "soup=BeautifulSoup(text)"
   ]
  },
  {
   "cell_type": "code",
   "execution_count": 49,
   "metadata": {},
   "outputs": [],
   "source": [
    "datatotal=soup.select('body #getListByCountryTypeService2true')[0].text"
   ]
  },
  {
   "cell_type": "code",
   "execution_count": 50,
   "metadata": {},
   "outputs": [],
   "source": [
    "datatotaljson=json.loads(re.findall(r'window.getListByCountryTypeService2.*?.=.(.*)\\}catch',datatotal,re.S)[0])"
   ]
  },
  {
   "cell_type": "code",
   "execution_count": 51,
   "metadata": {},
   "outputs": [],
   "source": [
    "with open(\"worldtotal.json\",\"w\",encoding=\"utf-8\") as f:\n",
    "    json.dump(datatotaljson,f,indent=4)"
   ]
  },
  {
   "cell_type": "code",
   "execution_count": 64,
   "metadata": {},
   "outputs": [],
   "source": [
    "chinaurl=datatotaljson[22]['statisticsData']"
   ]
  },
  {
   "cell_type": "code",
   "execution_count": 65,
   "metadata": {},
   "outputs": [],
   "source": [
    "r=requests.get(chinaurl)"
   ]
  },
  {
   "cell_type": "code",
   "execution_count": 66,
   "metadata": {},
   "outputs": [
    {
     "data": {
      "text/plain": [
       "200"
      ]
     },
     "execution_count": 66,
     "metadata": {},
     "output_type": "execute_result"
    }
   ],
   "source": [
    "r.status_code"
   ]
  },
  {
   "cell_type": "code",
   "execution_count": 67,
   "metadata": {},
   "outputs": [],
   "source": [
    "datachinajson=json.loads(r.text)"
   ]
  },
  {
   "cell_type": "code",
   "execution_count": 68,
   "metadata": {},
   "outputs": [],
   "source": [
    "with open(\"chinatotal.json\",\"w\",encoding=\"utf-8\") as f:\n",
    "    json.dump(datachinajson,f,indent=4)"
   ]
  },
  {
   "cell_type": "code",
   "execution_count": 69,
   "metadata": {},
   "outputs": [],
   "source": [
    "chinadata=datachinajson['data']"
   ]
  },
  {
   "cell_type": "code",
   "execution_count": 70,
   "metadata": {},
   "outputs": [],
   "source": [
    "columns=['累计确诊','累计确诊新增','累计治愈','累计治愈新增','现存确诊','现存确诊新增','日期','累计死亡','累计死亡新增','高风险地区数','中风险地区数','境外输入','境外输入新增']\n",
    "df=pd.DataFrame(chinadata)"
   ]
  },
  {
   "cell_type": "code",
   "execution_count": 71,
   "metadata": {},
   "outputs": [],
   "source": [
    "df.columns=columns"
   ]
  },
  {
   "cell_type": "code",
   "execution_count": 72,
   "metadata": {},
   "outputs": [],
   "source": [
    "df.set_index('日期',inplace=True)"
   ]
  },
  {
   "cell_type": "code",
   "execution_count": 73,
   "metadata": {},
   "outputs": [],
   "source": [
    "df.drop(columns=['高风险地区数','中风险地区数'],inplace=True)"
   ]
  },
  {
   "cell_type": "code",
   "execution_count": 74,
   "metadata": {},
   "outputs": [],
   "source": [
    "df.to_excel(\"chinatotal.xlsx\",index=True)"
   ]
  },
  {
   "cell_type": "code",
   "execution_count": 75,
   "metadata": {},
   "outputs": [
    {
     "data": {
      "text/html": [
       "<div>\n",
       "<style scoped>\n",
       "    .dataframe tbody tr th:only-of-type {\n",
       "        vertical-align: middle;\n",
       "    }\n",
       "\n",
       "    .dataframe tbody tr th {\n",
       "        vertical-align: top;\n",
       "    }\n",
       "\n",
       "    .dataframe thead th {\n",
       "        text-align: right;\n",
       "    }\n",
       "</style>\n",
       "<table border=\"1\" class=\"dataframe\">\n",
       "  <thead>\n",
       "    <tr style=\"text-align: right;\">\n",
       "      <th></th>\n",
       "      <th>累计确诊</th>\n",
       "      <th>累计确诊新增</th>\n",
       "      <th>累计治愈</th>\n",
       "      <th>累计治愈新增</th>\n",
       "      <th>现存确诊</th>\n",
       "      <th>现存确诊新增</th>\n",
       "      <th>累计死亡</th>\n",
       "      <th>累计死亡新增</th>\n",
       "      <th>境外输入</th>\n",
       "      <th>境外输入新增</th>\n",
       "    </tr>\n",
       "    <tr>\n",
       "      <th>日期</th>\n",
       "      <th></th>\n",
       "      <th></th>\n",
       "      <th></th>\n",
       "      <th></th>\n",
       "      <th></th>\n",
       "      <th></th>\n",
       "      <th></th>\n",
       "      <th></th>\n",
       "      <th></th>\n",
       "      <th></th>\n",
       "    </tr>\n",
       "  </thead>\n",
       "  <tbody>\n",
       "    <tr>\n",
       "      <th>20200119</th>\n",
       "      <td>217</td>\n",
       "      <td>217</td>\n",
       "      <td>25</td>\n",
       "      <td>25</td>\n",
       "      <td>188</td>\n",
       "      <td>188</td>\n",
       "      <td>4</td>\n",
       "      <td>4</td>\n",
       "      <td>0</td>\n",
       "      <td>0</td>\n",
       "    </tr>\n",
       "    <tr>\n",
       "      <th>20200120</th>\n",
       "      <td>291</td>\n",
       "      <td>74</td>\n",
       "      <td>25</td>\n",
       "      <td>0</td>\n",
       "      <td>260</td>\n",
       "      <td>72</td>\n",
       "      <td>6</td>\n",
       "      <td>2</td>\n",
       "      <td>0</td>\n",
       "      <td>0</td>\n",
       "    </tr>\n",
       "    <tr>\n",
       "      <th>20200121</th>\n",
       "      <td>440</td>\n",
       "      <td>149</td>\n",
       "      <td>25</td>\n",
       "      <td>0</td>\n",
       "      <td>406</td>\n",
       "      <td>146</td>\n",
       "      <td>9</td>\n",
       "      <td>3</td>\n",
       "      <td>0</td>\n",
       "      <td>0</td>\n",
       "    </tr>\n",
       "    <tr>\n",
       "      <th>20200122</th>\n",
       "      <td>571</td>\n",
       "      <td>131</td>\n",
       "      <td>28</td>\n",
       "      <td>3</td>\n",
       "      <td>526</td>\n",
       "      <td>120</td>\n",
       "      <td>17</td>\n",
       "      <td>8</td>\n",
       "      <td>0</td>\n",
       "      <td>0</td>\n",
       "    </tr>\n",
       "    <tr>\n",
       "      <th>20200123</th>\n",
       "      <td>835</td>\n",
       "      <td>264</td>\n",
       "      <td>34</td>\n",
       "      <td>6</td>\n",
       "      <td>776</td>\n",
       "      <td>250</td>\n",
       "      <td>25</td>\n",
       "      <td>8</td>\n",
       "      <td>0</td>\n",
       "      <td>0</td>\n",
       "    </tr>\n",
       "    <tr>\n",
       "      <th>...</th>\n",
       "      <td>...</td>\n",
       "      <td>...</td>\n",
       "      <td>...</td>\n",
       "      <td>...</td>\n",
       "      <td>...</td>\n",
       "      <td>...</td>\n",
       "      <td>...</td>\n",
       "      <td>...</td>\n",
       "      <td>...</td>\n",
       "      <td>...</td>\n",
       "    </tr>\n",
       "    <tr>\n",
       "      <th>20220523</th>\n",
       "      <td>1942240</td>\n",
       "      <td>66461</td>\n",
       "      <td>290057</td>\n",
       "      <td>432</td>\n",
       "      <td>1636153</td>\n",
       "      <td>65988</td>\n",
       "      <td>16030</td>\n",
       "      <td>41</td>\n",
       "      <td>18521</td>\n",
       "      <td>15</td>\n",
       "    </tr>\n",
       "    <tr>\n",
       "      <th>20220524</th>\n",
       "      <td>2024766</td>\n",
       "      <td>82526</td>\n",
       "      <td>290494</td>\n",
       "      <td>437</td>\n",
       "      <td>1718200</td>\n",
       "      <td>82047</td>\n",
       "      <td>16072</td>\n",
       "      <td>42</td>\n",
       "      <td>18536</td>\n",
       "      <td>15</td>\n",
       "    </tr>\n",
       "    <tr>\n",
       "      <th>20220525</th>\n",
       "      <td>2114305</td>\n",
       "      <td>89539</td>\n",
       "      <td>291008</td>\n",
       "      <td>514</td>\n",
       "      <td>1807146</td>\n",
       "      <td>88946</td>\n",
       "      <td>16151</td>\n",
       "      <td>79</td>\n",
       "      <td>18562</td>\n",
       "      <td>26</td>\n",
       "    </tr>\n",
       "    <tr>\n",
       "      <th>20220526</th>\n",
       "      <td>2196366</td>\n",
       "      <td>82061</td>\n",
       "      <td>291261</td>\n",
       "      <td>253</td>\n",
       "      <td>1888847</td>\n",
       "      <td>81701</td>\n",
       "      <td>16258</td>\n",
       "      <td>107</td>\n",
       "      <td>18584</td>\n",
       "      <td>22</td>\n",
       "    </tr>\n",
       "    <tr>\n",
       "      <th>20220527</th>\n",
       "      <td>2291304</td>\n",
       "      <td>94938</td>\n",
       "      <td>291632</td>\n",
       "      <td>371</td>\n",
       "      <td>1983287</td>\n",
       "      <td>94440</td>\n",
       "      <td>16385</td>\n",
       "      <td>127</td>\n",
       "      <td>18609</td>\n",
       "      <td>25</td>\n",
       "    </tr>\n",
       "  </tbody>\n",
       "</table>\n",
       "<p>856 rows × 10 columns</p>\n",
       "</div>"
      ],
      "text/plain": [
       "             累计确诊  累计确诊新增    累计治愈  累计治愈新增     现存确诊  现存确诊新增   累计死亡  累计死亡新增  \\\n",
       "日期                                                                          \n",
       "20200119      217     217      25      25      188     188      4       4   \n",
       "20200120      291      74      25       0      260      72      6       2   \n",
       "20200121      440     149      25       0      406     146      9       3   \n",
       "20200122      571     131      28       3      526     120     17       8   \n",
       "20200123      835     264      34       6      776     250     25       8   \n",
       "...           ...     ...     ...     ...      ...     ...    ...     ...   \n",
       "20220523  1942240   66461  290057     432  1636153   65988  16030      41   \n",
       "20220524  2024766   82526  290494     437  1718200   82047  16072      42   \n",
       "20220525  2114305   89539  291008     514  1807146   88946  16151      79   \n",
       "20220526  2196366   82061  291261     253  1888847   81701  16258     107   \n",
       "20220527  2291304   94938  291632     371  1983287   94440  16385     127   \n",
       "\n",
       "           境外输入  境外输入新增  \n",
       "日期                       \n",
       "20200119      0       0  \n",
       "20200120      0       0  \n",
       "20200121      0       0  \n",
       "20200122      0       0  \n",
       "20200123      0       0  \n",
       "...         ...     ...  \n",
       "20220523  18521      15  \n",
       "20220524  18536      15  \n",
       "20220525  18562      26  \n",
       "20220526  18584      22  \n",
       "20220527  18609      25  \n",
       "\n",
       "[856 rows x 10 columns]"
      ]
     },
     "execution_count": 75,
     "metadata": {},
     "output_type": "execute_result"
    }
   ],
   "source": [
    "df"
   ]
  }
 ],
 "metadata": {
  "interpreter": {
   "hash": "865d8b2eb28e274047ba64063dfb6a2aabf0dfec4905d304d7a76618dae6fdd4"
  },
  "kernelspec": {
   "display_name": "Python 3.10.2 64-bit",
   "language": "python",
   "name": "python3"
  },
  "language_info": {
   "codemirror_mode": {
    "name": "ipython",
    "version": 3
   },
   "file_extension": ".py",
   "mimetype": "text/x-python",
   "name": "python",
   "nbconvert_exporter": "python",
   "pygments_lexer": "ipython3",
   "version": "3.10.2"
  },
  "orig_nbformat": 4
 },
 "nbformat": 4,
 "nbformat_minor": 2
}
